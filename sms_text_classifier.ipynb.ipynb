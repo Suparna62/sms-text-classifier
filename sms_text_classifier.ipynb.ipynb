{
  "nbformat": 4,
  "nbformat_minor": 0,
  "metadata": {
    "colab": {
      "provenance": []
    },
    "kernelspec": {
      "name": "python3",
      "display_name": "Python 3"
    },
    "language_info": {
      "name": "python"
    }
  },
  "cells": [
    {
      "cell_type": "code",
      "execution_count": null,
      "metadata": {
        "id": "mUrQa_KbpmPJ"
      },
      "outputs": [],
      "source": [
        "import tensorflow as tf\n",
        "from tensorflow.keras.preprocessing.text import Tokenizer\n",
        "from tensorflow.keras.preprocessing.sequence import pad_sequences\n",
        "\n",
        "# Prepare the tokenizer\n",
        "vocab_size = 1000\n",
        "embedding_dim = 16\n",
        "max_length = 100\n",
        "trunc_type='post'\n",
        "padding_type='post'\n",
        "oov_tok = \"<OOV>\"\n",
        "\n",
        "# Separate features and labels\n",
        "training_sentences = train_data['message'].tolist()\n",
        "training_labels = train_data['label'].apply(lambda x: 1 if x == 'spam' else 0).tolist()\n",
        "\n",
        "testing_sentences = test_data['message'].tolist()\n",
        "testing_labels = test_data['label'].apply(lambda x: 1 if x == 'spam' else 0).tolist()\n",
        "\n",
        "# Tokenize\n",
        "tokenizer = Tokenizer(num_words=vocab_size, oov_token=oov_tok)\n",
        "tokenizer.fit_on_texts(training_sentences)\n",
        "\n",
        "train_sequences = tokenizer.texts_to_sequences(training_sentences)\n",
        "train_padded = pad_sequences(train_sequences, maxlen=max_length, padding=padding_type, truncating=trunc_type)\n",
        "\n",
        "test_sequences = tokenizer.texts_to_sequences(testing_sentences)\n",
        "test_padded = pad_sequences(test_sequences, maxlen=max_length, padding=padding_type, truncating=trunc_type)\n",
        "\n",
        "train_labels = tf.convert_to_tensor(training_labels)\n",
        "test_labels = tf.convert_to_tensor(testing_labels)\n"
      ]
    },
    {
      "cell_type": "code",
      "source": [
        "model = tf.keras.Sequential([\n",
        "    tf.keras.layers.Embedding(vocab_size, embedding_dim, input_length=max_length),\n",
        "    tf.keras.layers.GlobalAveragePooling1D(),\n",
        "    tf.keras.layers.Dense(24, activation='relu'),\n",
        "    tf.keras.layers.Dense(1, activation='sigmoid')\n",
        "])\n",
        "\n",
        "model.compile(loss='binary_crossentropy', optimizer='adam', metrics=['accuracy'])\n",
        "\n",
        "model.fit(train_padded, train_labels, epochs=10, validation_data=(test_padded, test_labels))\n"
      ],
      "metadata": {
        "id": "87nt48Vapo7n"
      },
      "execution_count": null,
      "outputs": []
    },
    {
      "cell_type": "code",
      "source": [
        "def predict_message(msg):\n",
        "    sequence = tokenizer.texts_to_sequences([msg])\n",
        "    padded = pad_sequences(sequence, maxlen=max_length, padding=padding_type, truncating=trunc_type)\n",
        "    prediction = model.predict(padded)[0][0]\n",
        "    label = \"spam\" if prediction > 0.5 else \"ham\"\n",
        "    return [float(prediction), label]\n"
      ],
      "metadata": {
        "id": "vYTRSd4Fpqyn"
      },
      "execution_count": null,
      "outputs": []
    }
  ]
}